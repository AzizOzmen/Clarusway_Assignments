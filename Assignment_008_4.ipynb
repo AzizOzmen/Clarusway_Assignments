{
  "nbformat": 4,
  "nbformat_minor": 0,
  "metadata": {
    "colab": {
      "name": "Assignment-008/4.ipynb",
      "provenance": [],
      "authorship_tag": "ABX9TyMlEMOqpcyWiP66D5Ut32GK",
      "include_colab_link": true
    },
    "kernelspec": {
      "name": "python3",
      "display_name": "Python 3"
    },
    "language_info": {
      "name": "python"
    }
  },
  "cells": [
    {
      "cell_type": "markdown",
      "metadata": {
        "id": "view-in-github",
        "colab_type": "text"
      },
      "source": [
        "<a href=\"https://colab.research.google.com/github/AzizOzmen/Clarusway_Assignments/blob/main/Assignment_008_4.ipynb\" target=\"_parent\"><img src=\"https://colab.research.google.com/assets/colab-badge.svg\" alt=\"Open In Colab\"/></a>"
      ]
    },
    {
      "cell_type": "markdown",
      "metadata": {
        "id": "cIw8xdtkOTXn"
      },
      "source": [
        "**Is it a Prime Number?** \n",
        "\n",
        "**💡Objective:**\n",
        "\n",
        "To improve your control flow statement skills and to raise your awareness of some algebraic knowledge.\n",
        "\n",
        "Write your Python codes on any IDLE, push it up to your GitHub repository and submit your GitHub Page link address in addition to your code as a plain text.\n",
        "\n",
        "**Task :** Write a program that takes a number from the user and prints the result to check if it is a prime number.\n",
        "\n",
        "The examples of the desired output are as follows :\n",
        "\n",
        "input →  19 ⇉ output : 19 is a prime number\n",
        "\n",
        "input →  10 ⇉ output : 10 is not a prime number\n",
        "\n",
        "Note that: This question is famous on the web, so to get more benefit from this assignment, try to complete this task on your own. "
      ]
    },
    {
      "cell_type": "code",
      "metadata": {
        "colab": {
          "base_uri": "https://localhost:8080/"
        },
        "id": "qXHwCRw2ORj5",
        "outputId": "e0a1c8df-bdc4-4250-8701-6d755e0c6434"
      },
      "source": [
        "# There is something wrong with this code\n",
        "\n",
        "num2 = int(input(\"Please enter a number: \"))\n",
        "counter = 2\n",
        "while num2 > counter:\n",
        "  if num2 % counter == 0:\n",
        "    print(f\"{num2} is not a prime number.\")\n",
        "    break\n",
        "  else:\n",
        "    print(f\"{num2}  is a prime number.\")\n",
        "    break"
      ],
      "execution_count": 1,
      "outputs": [
        {
          "output_type": "stream",
          "text": [
            "Please enter a number: 19\n",
            "19  is a prime number.\n"
          ],
          "name": "stdout"
        }
      ]
    },
    {
      "cell_type": "code",
      "metadata": {
        "colab": {
          "base_uri": "https://localhost:8080/"
        },
        "id": "XuGiTXBUVEGU",
        "outputId": "bd9d1a18-6fa5-4744-b0e3-5a8e473f1143"
      },
      "source": [
        "num2 = int(input(\"Please enter a number: \"))\n",
        "counter = 2\n",
        "while num2 > counter:\n",
        "  if num2 % counter == 0:\n",
        "    print(f\"{num2} is not a prime number.\")\n",
        "    break\n",
        "  else:\n",
        "    counter += 1\n",
        "if counter == num2:\n",
        "  print(f\"{num2} is a prime number.\")"
      ],
      "execution_count": 10,
      "outputs": [
        {
          "output_type": "stream",
          "text": [
            "Please enter a number: 19\n",
            "19 is a prime number.\n"
          ],
          "name": "stdout"
        }
      ]
    },
    {
      "cell_type": "code",
      "metadata": {
        "colab": {
          "base_uri": "https://localhost:8080/"
        },
        "id": "jlZfeo26PN2Y",
        "outputId": "78d67282-f119-451a-842d-9ac22c0464f4"
      },
      "source": [
        "number = int(input(\"Please enter a number: \"))\n",
        "for i in range(2, number):\n",
        "  if number % i == 0:\n",
        "    print(f\"{number} is not a prime number!\")\n",
        "    break\n",
        "  else:\n",
        "    print(\"{} is a prime number.\".format(number))\n",
        "    break"
      ],
      "execution_count": 4,
      "outputs": [
        {
          "output_type": "stream",
          "text": [
            "Please enter a number: 19\n",
            "19 is a prime number.\n"
          ],
          "name": "stdout"
        }
      ]
    },
    {
      "cell_type": "code",
      "metadata": {
        "colab": {
          "base_uri": "https://localhost:8080/"
        },
        "id": "BNvxPPhuPTbC",
        "outputId": "1e87418c-67aa-4cfc-e3cf-1e618a7898b6"
      },
      "source": [
        "num1 = int(input(\"Please enter a positive number greater than 1 : \"))\n",
        "if num1 > 1:\n",
        "  for i in range(2, num1):\n",
        "    if (num1 % i) == 0:\n",
        "      print(f\"{num1} is not Prime number\")\n",
        "      break\n",
        "  else:\n",
        "    print(\"%d is a Prime number\" %(num1))\n",
        "else:\n",
        "  print(\"%d is not Prime number\" %(num1))"
      ],
      "execution_count": 2,
      "outputs": [
        {
          "output_type": "stream",
          "text": [
            "Please enter a positive number greater than 1 : 19\n",
            "19 is a Prime number\n"
          ],
          "name": "stdout"
        }
      ]
    }
  ]
}