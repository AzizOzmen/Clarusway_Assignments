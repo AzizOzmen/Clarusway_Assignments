{
  "nbformat": 4,
  "nbformat_minor": 0,
  "metadata": {
    "colab": {
      "name": "Assignment-008/2.ipynb",
      "provenance": [],
      "authorship_tag": "ABX9TyPUS8Or5nDsug589LGenDpX",
      "include_colab_link": true
    },
    "kernelspec": {
      "name": "python3",
      "display_name": "Python 3"
    },
    "language_info": {
      "name": "python"
    }
  },
  "cells": [
    {
      "cell_type": "markdown",
      "metadata": {
        "id": "view-in-github",
        "colab_type": "text"
      },
      "source": [
        "<a href=\"https://colab.research.google.com/github/AzizOzmen/Clarusway_Assignments/blob/main/Assignment_008_2.ipynb\" target=\"_parent\"><img src=\"https://colab.research.google.com/assets/colab-badge.svg\" alt=\"Open In Colab\"/></a>"
      ]
    },
    {
      "cell_type": "markdown",
      "metadata": {
        "id": "-c623lrFHxzV"
      },
      "source": [
        "\n",
        "**💡Objective:**\n",
        "\n",
        "To improve your boolean logic and setting condition algorithm skills and to raise your awareness of coronavirus.\n",
        "\n",
        "Write your Python codes on any IDE, push it up to your GitHub repository and submit your GitHub Page link address in addition to your code as a plain text.\n",
        "\n",
        "**Problem :**\n",
        "\n",
        "Task : Estimating the risk of death from coronavirus. Write a program that;\n",
        "\n",
        "Takes \"Yes\" or \"No\" from the user as an answer to the following questions :\n",
        "\n",
        "Are you a cigarette addict older than 75 years old? Variable → age\n",
        "\n",
        "Do you have a severe chronic disease? Variable → chronic\n",
        "\n",
        "Is your immune system too weak? Variable → immune\n",
        "\n",
        "Set a logical algorithm using boolean logic operators (and/or) and use if-statements with the given variables in order to print out us a message :\n",
        "\n",
        "\"You are in risky group\"(if True ) or \"You are not in risky group\" (if False).\n",
        "\n",
        "age =  # can be assigned only True/False\n",
        "\n",
        "chronic =  # can be assigned only True/False\n",
        "\n",
        "immune =  # can be assigned only True/False\n",
        "\n",
        "risk = ?"
      ]
    },
    {
      "cell_type": "code",
      "metadata": {
        "colab": {
          "base_uri": "https://localhost:8080/"
        },
        "id": "3eCp5iai0UEB",
        "outputId": "c1364ad5-3295-4492-8aad-4ecd2d0ab8a1"
      },
      "source": [
        "print(\"Please enter (Y) for YES or (N) for NO for the following questions.\\n\")\n",
        "age = input(\"Are you a cigarette addict older than 75 years old? Yes/No : \")\n",
        "chronic = input(\"Do you have a severe chronic disease? Yes/No : \")\n",
        "immune = input(\"Is your immune system too weak? Yes/No : \")\n",
        "\n",
        "age1=age.lower()\n",
        "chronic1=chronic.lower()\n",
        "immune1=immune.lower()\n",
        "\n",
        "if age1[0] == \"y\" and chronic1[0] == \"y\" and immune1[0] == \"y\":\n",
        "  print(\"You are in risky group\")\n",
        "else:\n",
        "  print(\"You are NOT in risky group\")"
      ],
      "execution_count": 23,
      "outputs": [
        {
          "output_type": "stream",
          "text": [
            "Please enter (Y) for YES or (N) for NO for the following questions.\n",
            "\n",
            "Are you a cigarette addict older than 75 years old? Yes/No : n\n",
            "Do you have a severe chronic disease? Yes/No : y\n",
            "Is your immune system too weak? Yes/No : y\n",
            "You are NOT in risky group\n"
          ],
          "name": "stdout"
        }
      ]
    },
    {
      "cell_type": "code",
      "metadata": {
        "colab": {
          "base_uri": "https://localhost:8080/"
        },
        "id": "dUNKAI02Ho9o",
        "outputId": "a92c4535-655b-4d1c-ab75-c3e5da4262eb"
      },
      "source": [
        "age = input(\"Are you a cigarette addict older than 75 years old? True/False : \")\n",
        "chronic = input(\"Do you have a severe chronic disease? True/False : \")\n",
        "immune = input(\"Is your immune system too weak? True/False : \")\n",
        "\n",
        "age1=age.lower()\n",
        "chronic1=chronic.lower()\n",
        "immune1=immune.lower()\n",
        "\n",
        "if age1 == \"true\" and chronic1 == \"true\" and immune1 == \"true\":\n",
        "  print(\"You are in risky group\")\n",
        "else:\n",
        "  print(\"You are NOT in risky group\")"
      ],
      "execution_count": null,
      "outputs": [
        {
          "output_type": "stream",
          "text": [
            "Are you a cigarette addict older than 75 years old? True/False : 3\n",
            "Do you have a severe chronic disease? True/False : true\n",
            "Is your immune system too weak? True/False : true\n",
            "You are NOT in risky group\n"
          ],
          "name": "stdout"
        }
      ]
    },
    {
      "cell_type": "code",
      "metadata": {
        "colab": {
          "base_uri": "https://localhost:8080/"
        },
        "id": "bR_BESSSuBe8",
        "outputId": "c5719baa-4910-4756-9417-811841e16242"
      },
      "source": [
        "print(\"Please enter (Y) for YES or (N) for NO for the following questions\\n\")\n",
        "age = input(\"Are you a cigarette addict older than 75 years old? Yes/No : \")\n",
        "chronic = input(\"Do you have a severe chronic disease? Yes/No : \")\n",
        "immune = input(\"Is your immune system too weak? Yes/No : \")\n",
        "\n",
        "age1=age.lower()\n",
        "chronic1=chronic.lower()\n",
        "immune1=immune.lower()\n",
        "\n",
        "if age1[0] == \"y\" and chronic1[0] == \"y\" and immune1[0] == \"y\":\n",
        "  print(\"You are in risky group\")\n",
        "elif age1[0] == \"n\" or chronic1[0] == \"n\" and immune1[0] == \"n\":\n",
        "  print(\"You are NOT in risky group\")\n",
        "elif age1[0] == \"n\" and chronic1[0] == \"n\" or immune1[0] == \"n\":\n",
        "  print(\"You are NOT in risky group\")\n",
        "elif age1[0] == \"n\" or\n",
        "\n",
        "\n",
        " chronic1[0] == \"n\" or immune1[0] == \"n\":\n",
        "  print(\"You are NOT in risky group\")\n",
        "else:\n",
        "  print(\"Please enter a valid input!\")"
      ],
      "execution_count": 41,
      "outputs": [
        {
          "output_type": "stream",
          "text": [
            "Please enter (Y) for YES or (N) for NO for the following questions\n",
            "\n",
            "Are you a cigarette addict older than 75 years old? Yes/No : n\n",
            "Do you have a severe chronic disease? Yes/No : z\n",
            "Is your immune system too weak? Yes/No : z\n",
            "You are NOT in risky group\n"
          ],
          "name": "stdout"
        }
      ]
    },
    {
      "cell_type": "code",
      "metadata": {
        "colab": {
          "base_uri": "https://localhost:8080/"
        },
        "id": "e-dnEBzoOWHa",
        "outputId": "b6a6a861-f4f9-45f0-fc05-7836277ad3ed"
      },
      "source": [
        "age = input(\"Are you a cigarette addict older than 75 years old? True/False : \")\n",
        "chronic = input(\"Do you have a severe chronic disease? True/False : \")\n",
        "immune = input(\"Is your immune system too weak? True/False : \")\n",
        "\n",
        "age1=age.lower()\n",
        "chronic1=chronic.lower()\n",
        "immune1=immune.lower()\n",
        "\n",
        "if age1 == \"true\" and chronic1 == \"true\" and immune1 == \"true\":\n",
        "  print(\"You are in risky group\")\n",
        "elif age1 == \"true\" or chronic1 == \"true\" or immune1 == \"true\":\n",
        "  print(\"You are NOT in risky group\")\n",
        "else:\n",
        "  print(\"Please enter a valid input!\")"
      ],
      "execution_count": 28,
      "outputs": [
        {
          "output_type": "stream",
          "text": [
            "Are you a cigarette addict older than 75 years old? True/False : y\n",
            "Do you have a severe chronic disease? True/False : n\n",
            "Is your immune system too weak? True/False : n\n",
            "Please enter a valid input!\n"
          ],
          "name": "stdout"
        }
      ]
    },
    {
      "cell_type": "code",
      "metadata": {
        "id": "yMnFAx7QZNr5",
        "colab": {
          "base_uri": "https://localhost:8080/"
        },
        "outputId": "94a3d5c7-bcce-4395-946e-de738a46b7be"
      },
      "source": [
        "age = input(\"Are you a cigarette addict older than 75 years old? True/False : \")\n",
        "chronic = input(\"Do you have a severe chronic disease? True/False : \")\n",
        "immune = input(\"Is your immune system too weak? True/False : \")\n",
        "\n",
        "age = True\n",
        "chronic = True\n",
        "immune = False\n",
        "\n",
        "if age == True and chronic == True and immune == True:\n",
        "  print(\"You are in risky group\")\n",
        "else:\n",
        "  print(\"You are NOT in risky group\")"
      ],
      "execution_count": 2,
      "outputs": [
        {
          "output_type": "stream",
          "text": [
            "Are you a cigarette addict older than 75 years old? True/False : true\n",
            "Do you have a severe chronic disease? True/False : true\n",
            "Is your immune system too weak? True/False : true\n",
            "You are NOT in risky group\n"
          ],
          "name": "stdout"
        }
      ]
    },
    {
      "cell_type": "code",
      "metadata": {
        "colab": {
          "base_uri": "https://localhost:8080/"
        },
        "id": "3eBVzywKqDdq",
        "outputId": "45d2c899-0f74-40f8-8e27-34772351a163"
      },
      "source": [
        "age = input(\"Are you a cigarette addict older than 75 years old? True/False : \")\n",
        "chronic = input(\"Do you have a severe chronic disease? True/False : \")\n",
        "immune = input(\"Is your immune system too weak? True/False : \")\n",
        "\n",
        "age1=age.lower()\n",
        "chronic1=chronic.lower()\n",
        "immune1=immune.lower()\n",
        "\n",
        "risk = age1 and chronic1 and immune1\n",
        "\n",
        "if risk == \"true\":\n",
        "  print(\"You are in risky group\")\n",
        "else:\n",
        "  print(\"You are NOT in risky group\")"
      ],
      "execution_count": null,
      "outputs": [
        {
          "output_type": "stream",
          "text": [
            "Are you a cigarette addict older than 75 years old? True/False : false\n",
            "Do you have a severe chronic disease? True/False : true\n",
            "Is your immune system too weak? True/False : false\n",
            "You are NOT in risky group\n"
          ],
          "name": "stdout"
        }
      ]
    },
    {
      "cell_type": "code",
      "metadata": {
        "colab": {
          "base_uri": "https://localhost:8080/"
        },
        "id": "ge_f_T80q1AT",
        "outputId": "6cc13ec4-09d1-4a42-8881-c847240bf711"
      },
      "source": [
        "print(\"Please enter (T) for True or (F) for False for the following questions\\n\")\n",
        "age = input(\"Are you a cigarette addict older than 75 years old? True/False : \")\n",
        "chronic = input(\"Do you have a severe chronic disease? True/False : \")\n",
        "immune = input(\"Is your immune system too weak? True/False : \")\n",
        "\n",
        "age1=age.lower()\n",
        "chronic1=chronic.lower()\n",
        "immune1=immune.lower()\n",
        "\n",
        "risk = age1 and chronic1 and immune1\n",
        "\n",
        "if risk == True:\n",
        "  print(\"You are in risky group\")\n",
        "elif risk != True:\n",
        "  print(\"You are NOT in risky group\")\n",
        "else:\n",
        "  print(\"Please enter a valid input!\")"
      ],
      "execution_count": 16,
      "outputs": [
        {
          "output_type": "stream",
          "text": [
            "Please enter (T) for True or (F) for False for the following questions\n",
            "\n",
            "Are you a cigarette addict older than 75 years old? True/False : z\n",
            "Do you have a severe chronic disease? True/False : z\n",
            "Is your immune system too weak? True/False : z\n",
            "You are NOT in risky group\n"
          ],
          "name": "stdout"
        }
      ]
    }
  ]
}