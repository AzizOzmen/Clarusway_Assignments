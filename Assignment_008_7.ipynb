{
  "nbformat": 4,
  "nbformat_minor": 0,
  "metadata": {
    "colab": {
      "name": "Assignment-008/7.ipynb",
      "provenance": [],
      "authorship_tag": "ABX9TyOe9leUH2pOKdVNN3judqDI",
      "include_colab_link": true
    },
    "kernelspec": {
      "name": "python3",
      "display_name": "Python 3"
    },
    "language_info": {
      "name": "python"
    }
  },
  "cells": [
    {
      "cell_type": "markdown",
      "metadata": {
        "id": "view-in-github",
        "colab_type": "text"
      },
      "source": [
        "<a href=\"https://colab.research.google.com/github/AzizOzmen/Clarusway_Assignments/blob/main/Assignment_008_7.ipynb\" target=\"_parent\"><img src=\"https://colab.research.google.com/assets/colab-badge.svg\" alt=\"Open In Colab\"/></a>"
      ]
    },
    {
      "cell_type": "markdown",
      "metadata": {
        "id": "rw3tV38lZ0Z9"
      },
      "source": [
        "**💡Objective:**\n",
        "\n",
        "To improve your control flow statement skills and to raise your awareness of some arithmetic knowledge.\n",
        "\n",
        "Write a Python code on any IDE, push it up to your GitHub repository and submit the GitHub page link address in addition to your code (answer) as a plain text.\n",
        " \n",
        "**Task : Print the Fizz Buzz numbers.**\n",
        "\n",
        "Fizz Buzz is a famous code challenge used in interviews to test basic programming skills. It's time to write your own implementation.\n",
        "\n",
        "Print numbers from 1 to 100 inclusively following these instructions:\n",
        "\n",
        "if a number is multiple of 3, print \"Fizz\" instead of this number,\n",
        "\n",
        "if a number is multiple of 5, print \"Buzz\" instead of this number,\n",
        "\n",
        "for numbers that are multiples of both 3 and 5, print \"FizzBuzz\",\n",
        "\n",
        "print the rest of the numbers unchanged.\n",
        "\n",
        "Output each value on a separate line.\n",
        "\n",
        "**Note that :** This question is famous on the web, so to get more benefit from this assignment, try to complete this task on your own."
      ]
    },
    {
      "cell_type": "code",
      "metadata": {
        "id": "CoATSqptZyE0"
      },
      "source": [
        "def fizzbuzz(number):\n",
        "    for i in range(1, number+1):\n",
        "        if not i % 15:\n",
        "            print(i, \"FizzBuzz\")\n",
        "        elif not i % 5:\n",
        "            print(\"Buzz\")\n",
        "        elif not i % 3:\n",
        "            print(\"Fizz\")\n",
        "        else:\n",
        "            print(i)\n",
        "# print(fizzbuzz(100)) dongude de print cagirirken de print oldugu icin en sonda NONE veriyor\n",
        "fizzbuzz(100)"
      ],
      "execution_count": null,
      "outputs": []
    },
    {
      "cell_type": "code",
      "metadata": {
        "id": "4V5Dd9Sz37wQ"
      },
      "source": [
        "def fizzbuzz(number):\n",
        "    for i in range(1, number+1):\n",
        "        if not i % 15:\n",
        "            print(i, \"FizzBuzz\")\n",
        "        elif not i % 5:\n",
        "            print(\"Buzz\")\n",
        "        elif not i % 3:\n",
        "            print(\"Fizz\")\n",
        "        else:\n",
        "            print(i)\n",
        "fizzbuzz(100)"
      ],
      "execution_count": null,
      "outputs": []
    },
    {
      "cell_type": "code",
      "metadata": {
        "colab": {
          "base_uri": "https://localhost:8080/"
        },
        "id": "XsxGJohM5gh-",
        "outputId": "685986e8-ba16-4985-deb0-28e3d5d515c4"
      },
      "source": [
        "def aziz(number):\n",
        "  exp = number ** 2\n",
        "  return exp\n",
        "aziz(5)"
      ],
      "execution_count": 3,
      "outputs": [
        {
          "output_type": "execute_result",
          "data": {
            "text/plain": [
              "25"
            ]
          },
          "metadata": {
            "tags": []
          },
          "execution_count": 3
        }
      ]
    },
    {
      "cell_type": "code",
      "metadata": {
        "id": "nDYecmyk6Bp2"
      },
      "source": [
        ""
      ],
      "execution_count": null,
      "outputs": []
    }
  ]
}