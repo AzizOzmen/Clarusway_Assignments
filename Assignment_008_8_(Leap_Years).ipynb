{
  "nbformat": 4,
  "nbformat_minor": 0,
  "metadata": {
    "colab": {
      "name": "Assignment-008/8 (Leap Years).ipynb",
      "provenance": [],
      "authorship_tag": "ABX9TyN61jPGBS0/o3iXYz3T2ccZ",
      "include_colab_link": true
    },
    "kernelspec": {
      "name": "python3",
      "display_name": "Python 3"
    },
    "language_info": {
      "name": "python"
    }
  },
  "cells": [
    {
      "cell_type": "markdown",
      "metadata": {
        "id": "view-in-github",
        "colab_type": "text"
      },
      "source": [
        "<a href=\"https://colab.research.google.com/github/AzizOzmen/Clarusway_Assignments/blob/main/Assignment_008_8_(Leap_Years).ipynb\" target=\"_parent\"><img src=\"https://colab.research.google.com/assets/colab-badge.svg\" alt=\"Open In Colab\"/></a>"
      ]
    },
    {
      "cell_type": "markdown",
      "metadata": {
        "id": "zoq547BZ0f-R"
      },
      "source": [
        "**💡Objective:**\n",
        "\n",
        "To improve your control flow statement and arithmetic operator algorithm skills.\n",
        "Write your Python codes on any IDE and push it up to your GitHub repository, then submit your GitHub page address link in addition to your codes (answer) as a plain text. \n",
        "\n",
        "**Task:**\n",
        "\n",
        "Find out if a given year is a \"leap\" year.\n",
        "\n",
        "In the Gregorian calendar, three criteria must be taken into account to identify leap years:\n",
        "\n",
        "The year must be evenly divisible by 4;\n",
        "\n",
        "If the year can also be evenly divided by 100, it is not a leap year; unless...\n",
        "The year is also evenly divisible by 400. Then it is a leap year.\n",
        "\n",
        "According to these rules, the years 2000 and 2400 are leap years, while 1800, 1900, 2100, 2200, 2300, and 2500 are not the leap years.\n",
        "\n",
        "Write a Python program that prints such as \"2020 is a leap year\" if the given year by the user is a leap year, prints such as \"2019 is not a leap year\" otherwise.\n",
        "\n",
        "**Note that;** this question is famous on the web, so that do it yourself to get more benefits from it."
      ]
    },
    {
      "cell_type": "code",
      "metadata": {
        "colab": {
          "base_uri": "https://localhost:8080/"
        },
        "id": "IRIHt-Bz0b8a",
        "outputId": "85571b19-6550-4761-e030-e8a87fbe1ed3"
      },
      "source": [
        "# This program checks if the year given by the user is a leap year or not\n",
        "\n",
        "# RULES:\n",
        "# 1- If a year is evenly divisible by 4, but it is not evenly divisible 100, then it is a leap year. \n",
        "# 2- If a year is divisible by both 100 and 400, then it is a leap year.\n",
        "\n",
        "leap_year = int(input(\"Please enter a year you wish: \"))\n",
        "\n",
        "if (leap_year % 400 == 0) or (leap_year % 4 == 0 and leap_year % 100 != 0):\n",
        "  print(f\"{leap_year} is a Leap Year.\")\n",
        "\n",
        "else:\n",
        "  print(f\"{leap_year} is NOT a Leap Year.\")"
      ],
      "execution_count": 7,
      "outputs": [
        {
          "output_type": "stream",
          "text": [
            "Please enter a year you wish: 2019\n",
            "2019 is NOT a Leap Year.\n"
          ],
          "name": "stdout"
        }
      ]
    },
    {
      "cell_type": "code",
      "metadata": {
        "colab": {
          "base_uri": "https://localhost:8080/"
        },
        "id": "fxHNio9-2H-N",
        "outputId": "f27c891c-6d47-4d4b-e566-e8dad6ce7f51"
      },
      "source": [
        "leap_year = int(input(\"Please enter a year you wish: \"))\n",
        "\n",
        "[print(f\"{leap_year} is a Leap Year.\") if (leap_year % 400 == 0) or \n",
        " (leap_year % 4 == 0 and leap_year % 100 != 0) else print(f\"{leap_year} is NOT a Leap Year.\")]"
      ],
      "execution_count": 10,
      "outputs": [
        {
          "output_type": "stream",
          "text": [
            "Please enter a year you wish: 2020\n",
            "2020 is a Leap Year.\n"
          ],
          "name": "stdout"
        },
        {
          "output_type": "execute_result",
          "data": {
            "text/plain": [
              "[None]"
            ]
          },
          "metadata": {
            "tags": []
          },
          "execution_count": 10
        }
      ]
    },
    {
      "cell_type": "code",
      "metadata": {
        "colab": {
          "base_uri": "https://localhost:8080/"
        },
        "id": "YjVMkXtq2prv",
        "outputId": "f78d65d3-aa31-43cc-d80b-a7d4e3b02e1c"
      },
      "source": [
        "leap_year = int(input(\"Please enter a year you wish: \"))\n",
        "\n",
        "[f\"{leap_year} is a Leap Year.\" if (leap_year % 400 == 0) or (leap_year % 4 == 0\n",
        "and leap_year % 100 != 0) else f\"{leap_year} is NOT a Leap Year.\"]"
      ],
      "execution_count": 11,
      "outputs": [
        {
          "output_type": "stream",
          "text": [
            "Please enter a year you wish: 2020\n"
          ],
          "name": "stdout"
        },
        {
          "output_type": "execute_result",
          "data": {
            "text/plain": [
              "['2020 is a Leap Year.']"
            ]
          },
          "metadata": {
            "tags": []
          },
          "execution_count": 11
        }
      ]
    },
    {
      "cell_type": "code",
      "metadata": {
        "id": "_35if8MZ5WZI"
      },
      "source": [
        "leap_year = int(input(\"Please enter a year you wish: \"))\n",
        "\n",
        "if leap_year % 4 == 0 and leap_year % 100 != 0:\n",
        "  print(f\"{leap_year} is a Leap Year.\")\n",
        "\n",
        "elif leap_year % 100 == 0 and leap_year % 400 == 0:\n",
        "  print(f\"{leap_year} is a Leap Year.\")\n",
        "\n",
        "else:\n",
        "  print(f\"{leap_year} is NOT a Leap Year.\")"
      ],
      "execution_count": null,
      "outputs": []
    }
  ]
}