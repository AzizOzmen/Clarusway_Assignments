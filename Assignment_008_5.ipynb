{
  "nbformat": 4,
  "nbformat_minor": 0,
  "metadata": {
    "colab": {
      "name": "Assignment-008/5.ipynb",
      "provenance": [],
      "authorship_tag": "ABX9TyPcZEk2wt/YdGuD1BYHGm/0",
      "include_colab_link": true
    },
    "kernelspec": {
      "name": "python3",
      "display_name": "Python 3"
    },
    "language_info": {
      "name": "python"
    }
  },
  "cells": [
    {
      "cell_type": "markdown",
      "metadata": {
        "id": "view-in-github",
        "colab_type": "text"
      },
      "source": [
        "<a href=\"https://colab.research.google.com/github/AzizOzmen/Clarusway_Assignments/blob/main/Assignment_008_5.ipynb\" target=\"_parent\"><img src=\"https://colab.research.google.com/assets/colab-badge.svg\" alt=\"Open In Colab\"/></a>"
      ]
    },
    {
      "cell_type": "markdown",
      "metadata": {
        "id": "IKeF45EWqPkL"
      },
      "source": [
        "**Assignment-008/5 (Fibonacci Numbers)** \n",
        "\n",
        "**💡Objective:**\n",
        "\n",
        "To improve your control flow statement skills and to raise your awareness of some algebraic knowledge.\n",
        "Write a Python code on any IDE, push it up to your GitHub repository and submit GitHub page address link in addition to your code (answer) as a plain text.\n",
        "\n",
        "**Task :** Create a list consisting of Fibonacci numbers from 1 to 55 using control flow statements.\n",
        "\n",
        "The desired output is like :\n",
        "\n",
        "fibonacci →  [1, 1, 2, 3, 5, 8, 13, 21, 34, 55]"
      ]
    },
    {
      "cell_type": "code",
      "metadata": {
        "colab": {
          "base_uri": "https://localhost:8080/"
        },
        "id": "A79jstA-qO7L",
        "outputId": "c990b0e3-a43f-4ddd-f0d5-f3170c9d5b55"
      },
      "source": [
        "f = 1\n",
        "fnumbers = []\n",
        "\n",
        "for i in range(1, 11):\n",
        "  if i == 1:\n",
        "    fnumbers.append(f)\n",
        "  else:\n",
        "    fnumbers.append(f)\n",
        "    f = fnumbers[-1] + fnumbers[-2]\n",
        "print(fnumbers)"
      ],
      "execution_count": 4,
      "outputs": [
        {
          "output_type": "stream",
          "text": [
            "[1, 1, 2, 3, 5, 8, 13, 21, 34, 55]\n"
          ],
          "name": "stdout"
        }
      ]
    },
    {
      "cell_type": "code",
      "metadata": {
        "colab": {
          "base_uri": "https://localhost:8080/"
        },
        "id": "PTOha4lsr01m",
        "outputId": "9e0bf420-e334-4922-95ee-175ede16f48d"
      },
      "source": [
        "x = [1,1]\n",
        "for i in range(1, 9):\n",
        "    y = x[i-1]+x[i]\n",
        "    x.append(y)\n",
        "print(x)"
      ],
      "execution_count": null,
      "outputs": [
        {
          "output_type": "stream",
          "text": [
            "[1, 1, 2, 3, 5, 8, 13, 21, 34, 55]\n"
          ],
          "name": "stdout"
        }
      ]
    },
    {
      "cell_type": "code",
      "metadata": {
        "colab": {
          "base_uri": "https://localhost:8080/"
        },
        "id": "meurFe5wz1RF",
        "outputId": "75e32ad2-4b21-42c1-e117-9d41dd65f624"
      },
      "source": [
        "def recur_fibo(n):  \n",
        "   if n <= 1:  \n",
        "       return n  \n",
        "   else:  \n",
        "       return(recur_fibo(n-1) + recur_fibo(n-2))  \n",
        "# take input from the user  \n",
        "nterms = int(input(\"How many terms? \"))  \n",
        "# check if the number of terms is valid  \n",
        "if nterms <= 0:  \n",
        "   print(\"Plese enter a positive integer\")  \n",
        "else:  \n",
        "   print(\"Fibonacci sequence:\")  \n",
        "   for i in range(nterms):  \n",
        "       print(recur_fibo(i))  "
      ],
      "execution_count": null,
      "outputs": [
        {
          "output_type": "stream",
          "text": [
            "How many terms? 11\n",
            "Fibonacci sequence:\n",
            "0\n",
            "1\n",
            "1\n",
            "2\n",
            "3\n",
            "5\n",
            "8\n",
            "13\n",
            "21\n",
            "34\n",
            "55\n"
          ],
          "name": "stdout"
        }
      ]
    }
  ]
}