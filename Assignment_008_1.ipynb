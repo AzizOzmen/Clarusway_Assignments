{
  "nbformat": 4,
  "nbformat_minor": 0,
  "metadata": {
    "colab": {
      "name": "Assignment-008/1.ipynb",
      "provenance": [],
      "authorship_tag": "ABX9TyOlaQdrflWJxpKdhXu4hXfi",
      "include_colab_link": true
    },
    "kernelspec": {
      "name": "python3",
      "display_name": "Python 3"
    },
    "language_info": {
      "name": "python"
    }
  },
  "cells": [
    {
      "cell_type": "markdown",
      "metadata": {
        "id": "view-in-github",
        "colab_type": "text"
      },
      "source": [
        "<a href=\"https://colab.research.google.com/github/AzizOzmen/Clarusway_Assignments/blob/main/Assignment_008_1.ipynb\" target=\"_parent\"><img src=\"https://colab.research.google.com/assets/colab-badge.svg\" alt=\"Open In Colab\"/></a>"
      ]
    },
    {
      "cell_type": "markdown",
      "metadata": {
        "id": "ZfSUqep5ytw2"
      },
      "source": [
        "Assignment-008/1 (Password Reminder)\n",
        "\n",
        "💡Objectives:\n",
        "\n",
        "To improve your conditional algorithm and string operations skills.\n",
        "\n",
        "Write your Python codes on any IDE, push it up to your GitHub repository and submit your GitHub Page link address in addition to your code as a plain text.\n",
        "\n",
        "Task : Let's say; you left a message in the past that prints a password you need. To see the password you wrote, you need to enter your name and the program should recognize you.\n",
        "\n",
        "Write a program that \n",
        "\n",
        "Takes the first name from the user and compares it to yours,\n",
        "\n",
        "Then if the name the user entered is the same as yours, print out such as : \"Hello, Joseph! The password is : W@12\",\n",
        "\n",
        "If the name the user entered is not the same as yours, print out such as : \"Hello, Amina! See you later.\""
      ]
    },
    {
      "cell_type": "code",
      "metadata": {
        "colab": {
          "base_uri": "https://localhost:8080/"
        },
        "id": "oxJM33lIytEt",
        "outputId": "311b901a-a68f-4fe5-a8be-ca9ebbb7f711"
      },
      "source": [
        "stored_name = \"Joseph\"\n",
        "stored_password = \"W@12\"\n",
        "\n",
        "name = input(\"Please enter your first name: \")\n",
        "\n",
        "if name == stored_name:\n",
        "  print(\"Hello, Joseph! The password is:\", stored_password)\n",
        "else:\n",
        "   print(\"Hello,\", name, \"See you later.\")\n",
        "\n"
      ],
      "execution_count": 7,
      "outputs": [
        {
          "output_type": "stream",
          "text": [
            "Please enter your first name: Joseph\n",
            "Hello, Joseph! The password is: W@12\n"
          ],
          "name": "stdout"
        }
      ]
    },
    {
      "cell_type": "code",
      "metadata": {
        "id": "T_g62Rh_JSii"
      },
      "source": [
        ""
      ],
      "execution_count": null,
      "outputs": []
    }
  ]
}