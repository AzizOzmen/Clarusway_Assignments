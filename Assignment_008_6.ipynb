{
  "nbformat": 4,
  "nbformat_minor": 0,
  "metadata": {
    "colab": {
      "name": "Assignment-008/6.ipynb",
      "provenance": [],
      "authorship_tag": "ABX9TyNOTxlUelGhQ+M0ioRaMb3B",
      "include_colab_link": true
    },
    "kernelspec": {
      "name": "python3",
      "display_name": "Python 3"
    },
    "language_info": {
      "name": "python"
    }
  },
  "cells": [
    {
      "cell_type": "markdown",
      "metadata": {
        "id": "view-in-github",
        "colab_type": "text"
      },
      "source": [
        "<a href=\"https://colab.research.google.com/github/AzizOzmen/Clarusway_Assignments/blob/main/Assignment_008_6.ipynb\" target=\"_parent\"><img src=\"https://colab.research.google.com/assets/colab-badge.svg\" alt=\"Open In Colab\"/></a>"
      ]
    },
    {
      "cell_type": "markdown",
      "metadata": {
        "id": "x3GoOc6nWQzK"
      },
      "source": [
        "**Assignment-008/6 (Prime Numbers**)\n",
        "\n",
        "**💡Objective:**\n",
        "\n",
        "To improve your control flow statement skills and to raise your awareness of some algebraic knowledge.\n",
        "\n",
        "Write a Python code on any IDE, push it up to your GitHub repository and submit the GitHub page address link in addition to your code (answer) as a plain text.\n",
        "Task : Print the prime numbers which are between 1 to entered limit number (n).\n",
        "\n",
        "You can use a nested for loop.\n",
        "\n",
        "Collect all these numbers into a list\n",
        "\n",
        "The desired output for n=100 :\n",
        "\n",
        "[2, 3, 5, 7, 11, 13, 17, 19, 23, 29, 31, 37, 41, 43, 47, 53, 59,\n",
        "61, 67, 71, 73, 79, 83, 89, 97]\n",
        "\n",
        "**Note that :** This question is famous on the web, so to get more benefit from this assignment, try to complete this task on your own."
      ]
    },
    {
      "cell_type": "code",
      "metadata": {
        "colab": {
          "base_uri": "https://localhost:8080/"
        },
        "id": "o6u_GjhO1rHk",
        "outputId": "1b3b7695-f8ee-4354-bf2e-164abb903990"
      },
      "source": [
        "number = int(input(\"Enter a positive number: \"))  \n",
        "  \n",
        "primes = []\n",
        "\n",
        "for num in range(1, number+1):\n",
        "  if num > 1:\n",
        "    for i in range(2, num):\n",
        "      if (num % i) == 0:\n",
        "        break  \n",
        "    else:\n",
        "      primes.append(num)\n",
        "      \n",
        "print(primes)\n",
        "        "
      ],
      "execution_count": 77,
      "outputs": [
        {
          "output_type": "stream",
          "text": [
            "Enter a positive number: 100\n",
            "[2, 3, 5, 7, 11, 13, 17, 19, 23, 29, 31, 37, 41, 43, 47, 53, 59, 61, 67, 71, 73, 79, 83, 89, 97]\n"
          ],
          "name": "stdout"
        }
      ]
    },
    {
      "cell_type": "markdown",
      "metadata": {
        "id": "frRGSHLV-Q_P"
      },
      "source": [
        "[2, 3, 5, 7, 11, 13, 17, 19, 23, 29, 31, 37, 41, 43, 47, 53, 59, 61, 67, 71, 73, 79, 83, 89, 97]"
      ]
    },
    {
      "cell_type": "code",
      "metadata": {
        "colab": {
          "base_uri": "https://localhost:8080/"
        },
        "id": "g5o2kFJS9-Ht",
        "outputId": "84f9037d-8897-49fb-d7ff-9a04d73db8ef"
      },
      "source": [
        "number = int(input(\"Enter a positive number: \"))  \n",
        "  \n",
        "primes = []\n",
        "\n",
        "for num in range(1, number+1):\n",
        "  if num > 1:\n",
        "    for i in range(2,num):\n",
        "      if (num % i) == 0:\n",
        "        break  \n",
        "    else:\n",
        "      primes.append(num)\n",
        "      print(primes)\n",
        "        "
      ],
      "execution_count": 69,
      "outputs": [
        {
          "output_type": "stream",
          "text": [
            "Enter a positive number: 10\n",
            "[2]\n",
            "[2, 3]\n",
            "[2, 3, 5]\n",
            "[2, 3, 5, 7]\n"
          ],
          "name": "stdout"
        }
      ]
    },
    {
      "cell_type": "code",
      "metadata": {
        "id": "n6V5bWFlEQhP"
      },
      "source": [
        "number = int(input(\"Enter a positive number: \"))  \n",
        "  \n",
        "while True:\n",
        "  if number > 0:\n",
        "    for num in range(1, number+1):\n",
        "      if num > 1:\n",
        "        for i in range(2,num):\n",
        "          if (num % i) == 0:\n",
        "            break\n",
        "        else: \n",
        "          print(num)\n",
        "  else:\n",
        "    print(input(\"Invalid Entry! Please enter a positive number: \"))"
      ],
      "execution_count": null,
      "outputs": []
    },
    {
      "cell_type": "code",
      "metadata": {
        "colab": {
          "base_uri": "https://localhost:8080/",
          "height": 673
        },
        "id": "kgqOgMEaz7TJ",
        "outputId": "3cd22551-5c10-4c52-bdec-745e8aaee88d"
      },
      "source": [
        "number = int(input(\"Enter a positive number: \"))  \n",
        "  \n",
        "while True:\n",
        "  if number > 0:\n",
        "    for num in range(1, number+1):\n",
        "      if num > 1:\n",
        "        for i in range(2,num):\n",
        "          if (num % i) == 0:\n",
        "            break\n",
        "        else: \n",
        "          print(num)\n",
        "  else:\n",
        "    print(input(\"Invalid Entry! Please enter a positive number: \"))\n"
      ],
      "execution_count": 74,
      "outputs": [
        {
          "output_type": "stream",
          "text": [
            "Enter a positive number: -5\n",
            "Invalid Entry! Please enter a positive number: -4\n",
            "-4\n",
            "Invalid Entry! Please enter a positive number: -20\n",
            "-20\n",
            "Invalid Entry! Please enter a positive number: 10\n",
            "10\n",
            "Invalid Entry! Please enter a positive number: 10\n",
            "10\n"
          ],
          "name": "stdout"
        },
        {
          "output_type": "error",
          "ename": "KeyboardInterrupt",
          "evalue": "ignored",
          "traceback": [
            "\u001b[0;31m---------------------------------------------------------------------------\u001b[0m",
            "\u001b[0;31mKeyboardInterrupt\u001b[0m                         Traceback (most recent call last)",
            "\u001b[0;32m/usr/local/lib/python3.7/dist-packages/ipykernel/kernelbase.py\u001b[0m in \u001b[0;36m_input_request\u001b[0;34m(self, prompt, ident, parent, password)\u001b[0m\n\u001b[1;32m    728\u001b[0m             \u001b[0;32mtry\u001b[0m\u001b[0;34m:\u001b[0m\u001b[0;34m\u001b[0m\u001b[0;34m\u001b[0m\u001b[0m\n\u001b[0;32m--> 729\u001b[0;31m                 \u001b[0mident\u001b[0m\u001b[0;34m,\u001b[0m \u001b[0mreply\u001b[0m \u001b[0;34m=\u001b[0m \u001b[0mself\u001b[0m\u001b[0;34m.\u001b[0m\u001b[0msession\u001b[0m\u001b[0;34m.\u001b[0m\u001b[0mrecv\u001b[0m\u001b[0;34m(\u001b[0m\u001b[0mself\u001b[0m\u001b[0;34m.\u001b[0m\u001b[0mstdin_socket\u001b[0m\u001b[0;34m,\u001b[0m \u001b[0;36m0\u001b[0m\u001b[0;34m)\u001b[0m\u001b[0;34m\u001b[0m\u001b[0;34m\u001b[0m\u001b[0m\n\u001b[0m\u001b[1;32m    730\u001b[0m             \u001b[0;32mexcept\u001b[0m \u001b[0mException\u001b[0m\u001b[0;34m:\u001b[0m\u001b[0;34m\u001b[0m\u001b[0;34m\u001b[0m\u001b[0m\n",
            "\u001b[0;32m/usr/local/lib/python3.7/dist-packages/jupyter_client/session.py\u001b[0m in \u001b[0;36mrecv\u001b[0;34m(self, socket, mode, content, copy)\u001b[0m\n\u001b[1;32m    802\u001b[0m         \u001b[0;32mtry\u001b[0m\u001b[0;34m:\u001b[0m\u001b[0;34m\u001b[0m\u001b[0;34m\u001b[0m\u001b[0m\n\u001b[0;32m--> 803\u001b[0;31m             \u001b[0mmsg_list\u001b[0m \u001b[0;34m=\u001b[0m \u001b[0msocket\u001b[0m\u001b[0;34m.\u001b[0m\u001b[0mrecv_multipart\u001b[0m\u001b[0;34m(\u001b[0m\u001b[0mmode\u001b[0m\u001b[0;34m,\u001b[0m \u001b[0mcopy\u001b[0m\u001b[0;34m=\u001b[0m\u001b[0mcopy\u001b[0m\u001b[0;34m)\u001b[0m\u001b[0;34m\u001b[0m\u001b[0;34m\u001b[0m\u001b[0m\n\u001b[0m\u001b[1;32m    804\u001b[0m         \u001b[0;32mexcept\u001b[0m \u001b[0mzmq\u001b[0m\u001b[0;34m.\u001b[0m\u001b[0mZMQError\u001b[0m \u001b[0;32mas\u001b[0m \u001b[0me\u001b[0m\u001b[0;34m:\u001b[0m\u001b[0;34m\u001b[0m\u001b[0;34m\u001b[0m\u001b[0m\n",
            "\u001b[0;32m/usr/local/lib/python3.7/dist-packages/zmq/sugar/socket.py\u001b[0m in \u001b[0;36mrecv_multipart\u001b[0;34m(self, flags, copy, track)\u001b[0m\n\u001b[1;32m    582\u001b[0m         \"\"\"\n\u001b[0;32m--> 583\u001b[0;31m         \u001b[0mparts\u001b[0m \u001b[0;34m=\u001b[0m \u001b[0;34m[\u001b[0m\u001b[0mself\u001b[0m\u001b[0;34m.\u001b[0m\u001b[0mrecv\u001b[0m\u001b[0;34m(\u001b[0m\u001b[0mflags\u001b[0m\u001b[0;34m,\u001b[0m \u001b[0mcopy\u001b[0m\u001b[0;34m=\u001b[0m\u001b[0mcopy\u001b[0m\u001b[0;34m,\u001b[0m \u001b[0mtrack\u001b[0m\u001b[0;34m=\u001b[0m\u001b[0mtrack\u001b[0m\u001b[0;34m)\u001b[0m\u001b[0;34m]\u001b[0m\u001b[0;34m\u001b[0m\u001b[0;34m\u001b[0m\u001b[0m\n\u001b[0m\u001b[1;32m    584\u001b[0m         \u001b[0;31m# have first part already, only loop while more to receive\u001b[0m\u001b[0;34m\u001b[0m\u001b[0;34m\u001b[0m\u001b[0;34m\u001b[0m\u001b[0m\n",
            "\u001b[0;32mzmq/backend/cython/socket.pyx\u001b[0m in \u001b[0;36mzmq.backend.cython.socket.Socket.recv\u001b[0;34m()\u001b[0m\n",
            "\u001b[0;32mzmq/backend/cython/socket.pyx\u001b[0m in \u001b[0;36mzmq.backend.cython.socket.Socket.recv\u001b[0;34m()\u001b[0m\n",
            "\u001b[0;32mzmq/backend/cython/socket.pyx\u001b[0m in \u001b[0;36mzmq.backend.cython.socket._recv_copy\u001b[0;34m()\u001b[0m\n",
            "\u001b[0;32m/usr/local/lib/python3.7/dist-packages/zmq/backend/cython/checkrc.pxd\u001b[0m in \u001b[0;36mzmq.backend.cython.checkrc._check_rc\u001b[0;34m()\u001b[0m\n",
            "\u001b[0;31mKeyboardInterrupt\u001b[0m: ",
            "\nDuring handling of the above exception, another exception occurred:\n",
            "\u001b[0;31mKeyboardInterrupt\u001b[0m                         Traceback (most recent call last)",
            "\u001b[0;32m<ipython-input-74-c6b44d87266a>\u001b[0m in \u001b[0;36m<module>\u001b[0;34m()\u001b[0m\n\u001b[1;32m     11\u001b[0m           \u001b[0mprint\u001b[0m\u001b[0;34m(\u001b[0m\u001b[0mnum\u001b[0m\u001b[0;34m)\u001b[0m\u001b[0;34m\u001b[0m\u001b[0;34m\u001b[0m\u001b[0m\n\u001b[1;32m     12\u001b[0m   \u001b[0;32melse\u001b[0m\u001b[0;34m:\u001b[0m\u001b[0;34m\u001b[0m\u001b[0;34m\u001b[0m\u001b[0m\n\u001b[0;32m---> 13\u001b[0;31m     \u001b[0mprint\u001b[0m\u001b[0;34m(\u001b[0m\u001b[0minput\u001b[0m\u001b[0;34m(\u001b[0m\u001b[0;34m\"Invalid Entry! Please enter a positive number: \"\u001b[0m\u001b[0;34m)\u001b[0m\u001b[0;34m)\u001b[0m\u001b[0;34m\u001b[0m\u001b[0;34m\u001b[0m\u001b[0m\n\u001b[0m",
            "\u001b[0;32m/usr/local/lib/python3.7/dist-packages/ipykernel/kernelbase.py\u001b[0m in \u001b[0;36mraw_input\u001b[0;34m(self, prompt)\u001b[0m\n\u001b[1;32m    702\u001b[0m             \u001b[0mself\u001b[0m\u001b[0;34m.\u001b[0m\u001b[0m_parent_ident\u001b[0m\u001b[0;34m,\u001b[0m\u001b[0;34m\u001b[0m\u001b[0;34m\u001b[0m\u001b[0m\n\u001b[1;32m    703\u001b[0m             \u001b[0mself\u001b[0m\u001b[0;34m.\u001b[0m\u001b[0m_parent_header\u001b[0m\u001b[0;34m,\u001b[0m\u001b[0;34m\u001b[0m\u001b[0;34m\u001b[0m\u001b[0m\n\u001b[0;32m--> 704\u001b[0;31m             \u001b[0mpassword\u001b[0m\u001b[0;34m=\u001b[0m\u001b[0;32mFalse\u001b[0m\u001b[0;34m,\u001b[0m\u001b[0;34m\u001b[0m\u001b[0;34m\u001b[0m\u001b[0m\n\u001b[0m\u001b[1;32m    705\u001b[0m         )\n\u001b[1;32m    706\u001b[0m \u001b[0;34m\u001b[0m\u001b[0m\n",
            "\u001b[0;32m/usr/local/lib/python3.7/dist-packages/ipykernel/kernelbase.py\u001b[0m in \u001b[0;36m_input_request\u001b[0;34m(self, prompt, ident, parent, password)\u001b[0m\n\u001b[1;32m    732\u001b[0m             \u001b[0;32mexcept\u001b[0m \u001b[0mKeyboardInterrupt\u001b[0m\u001b[0;34m:\u001b[0m\u001b[0;34m\u001b[0m\u001b[0;34m\u001b[0m\u001b[0m\n\u001b[1;32m    733\u001b[0m                 \u001b[0;31m# re-raise KeyboardInterrupt, to truncate traceback\u001b[0m\u001b[0;34m\u001b[0m\u001b[0;34m\u001b[0m\u001b[0;34m\u001b[0m\u001b[0m\n\u001b[0;32m--> 734\u001b[0;31m                 \u001b[0;32mraise\u001b[0m \u001b[0mKeyboardInterrupt\u001b[0m\u001b[0;34m\u001b[0m\u001b[0;34m\u001b[0m\u001b[0m\n\u001b[0m\u001b[1;32m    735\u001b[0m             \u001b[0;32melse\u001b[0m\u001b[0;34m:\u001b[0m\u001b[0;34m\u001b[0m\u001b[0;34m\u001b[0m\u001b[0m\n\u001b[1;32m    736\u001b[0m                 \u001b[0;32mbreak\u001b[0m\u001b[0;34m\u001b[0m\u001b[0;34m\u001b[0m\u001b[0m\n",
            "\u001b[0;31mKeyboardInterrupt\u001b[0m: "
          ]
        }
      ]
    },
    {
      "cell_type": "code",
      "metadata": {
        "colab": {
          "base_uri": "https://localhost:8080/"
        },
        "id": "CeOe_wupxzpo",
        "outputId": "61f08819-be9b-4e47-bd3c-b143a0d92fa5"
      },
      "source": [
        "number = int(input(\"Enter a positive number: \"))  \n",
        "  \n",
        "for num in range(1, number+1):  \n",
        "   if num > 1:  \n",
        "       for i in range(2,num):  \n",
        "           if (num % i) == 0:  \n",
        "               break  \n",
        "       else:  \n",
        "           print(num) "
      ],
      "execution_count": 47,
      "outputs": [
        {
          "output_type": "stream",
          "text": [
            "Enter a positive number: 10\n",
            "2\n",
            "3\n",
            "5\n",
            "7\n"
          ],
          "name": "stdout"
        }
      ]
    },
    {
      "cell_type": "code",
      "metadata": {
        "colab": {
          "base_uri": "https://localhost:8080/"
        },
        "id": "2AyUWam6xMEX",
        "outputId": "6ab19a0a-be21-4042-bc4e-87be9bb1110c"
      },
      "source": [
        "#Take the input from the user:   \n",
        "lower = int(input(\"Enter lower range: \"))  \n",
        "upper = int(input(\"Enter upper range: \"))  \n",
        "  \n",
        "for num in range(lower,upper + 1):  \n",
        "   if num > 1:  \n",
        "       for i in range(2,num):  \n",
        "           if (num % i) == 0:  \n",
        "               break  \n",
        "       else:  \n",
        "           print(num)  "
      ],
      "execution_count": 43,
      "outputs": [
        {
          "output_type": "stream",
          "text": [
            "Enter lower range: 2\n",
            "Enter upper range: 10\n",
            "2\n",
            "3\n",
            "5\n",
            "7\n"
          ],
          "name": "stdout"
        }
      ]
    },
    {
      "cell_type": "code",
      "metadata": {
        "colab": {
          "base_uri": "https://localhost:8080/",
          "height": 128
        },
        "id": "wSsLzepOvs9a",
        "outputId": "c3e7c5e1-5632-4e54-c858-e4df1ae9a432"
      },
      "source": [
        "num = int(input('Enter a positive number :'))\n",
        "my_primes = []\n",
        "for pr in range(2, number + 1):\n",
        "  isPrime = True\n",
        "   for num in range(2, pr):\n",
        "     if pr % num == 0:\n",
        "       isPrime = False\n",
        "       break\n",
        "       if isPrime:\n",
        "         my_primes.append(pr)\n",
        "         return(my_primes)\n",
        "\n",
        "print(my_primes)"
      ],
      "execution_count": 44,
      "outputs": [
        {
          "output_type": "error",
          "ename": "IndentationError",
          "evalue": "ignored",
          "traceback": [
            "\u001b[0;36m  File \u001b[0;32m\"<ipython-input-44-256339b338af>\"\u001b[0;36m, line \u001b[0;32m5\u001b[0m\n\u001b[0;31m    for num in range(2, pr):\u001b[0m\n\u001b[0m    ^\u001b[0m\n\u001b[0;31mIndentationError\u001b[0m\u001b[0;31m:\u001b[0m unexpected indent\n"
          ]
        }
      ]
    },
    {
      "cell_type": "code",
      "metadata": {
        "colab": {
          "base_uri": "https://localhost:8080/"
        },
        "id": "LegyysvlwL1x",
        "outputId": "14e536cf-8a7f-44be-f5dc-6340d7a99a45"
      },
      "source": [
        "number = int(input('Enter a positive number :'))\n",
        "\n",
        "my_primes = []\n",
        "for pr in range(2, int(number) + 1):\n",
        "  isPrime = True\n",
        "for num in range(2, pr):\n",
        "  if pr % num == 0:\n",
        "    isPrime = False\n",
        "    break\n",
        "    if isPrime:\n",
        "      my_primes.append(pr)\n",
        "# return(my_primes)\n",
        "\n",
        "print(my_primes)"
      ],
      "execution_count": 45,
      "outputs": [
        {
          "output_type": "stream",
          "text": [
            "Enter a positive number :10\n",
            "[]\n"
          ],
          "name": "stdout"
        }
      ]
    },
    {
      "cell_type": "code",
      "metadata": {
        "colab": {
          "base_uri": "https://localhost:8080/",
          "height": 195
        },
        "id": "19dcrkpyumxK",
        "outputId": "3353a70d-74d9-4b91-88c9-1cb1172b1f00"
      },
      "source": [
        "def primemethod(number):\n",
        "   # Initialize a list\n",
        "   my_primes = []\n",
        "   for pr in range(2, number + 1):\n",
        "      isPrime = True\n",
        "   for num in range(2, pr):\n",
        "     if pr % num == 0:\n",
        "      isPrime = False\n",
        "      break\n",
        "      if isPrime:\n",
        "        my_primes.append(pr)\n",
        "        return(my_primes)\n",
        "x = primemethod(50)\n",
        "print(list(x))"
      ],
      "execution_count": 34,
      "outputs": [
        {
          "output_type": "error",
          "ename": "TypeError",
          "evalue": "ignored",
          "traceback": [
            "\u001b[0;31m---------------------------------------------------------------------------\u001b[0m",
            "\u001b[0;31mTypeError\u001b[0m                                 Traceback (most recent call last)",
            "\u001b[0;32m<ipython-input-34-c1e619924021>\u001b[0m in \u001b[0;36m<module>\u001b[0;34m()\u001b[0m\n\u001b[1;32m     12\u001b[0m         \u001b[0;32mreturn\u001b[0m\u001b[0;34m(\u001b[0m\u001b[0mmy_primes\u001b[0m\u001b[0;34m)\u001b[0m\u001b[0;34m\u001b[0m\u001b[0;34m\u001b[0m\u001b[0m\n\u001b[1;32m     13\u001b[0m \u001b[0mx\u001b[0m \u001b[0;34m=\u001b[0m \u001b[0mprimemethod\u001b[0m\u001b[0;34m(\u001b[0m\u001b[0;36m50\u001b[0m\u001b[0;34m)\u001b[0m\u001b[0;34m\u001b[0m\u001b[0;34m\u001b[0m\u001b[0m\n\u001b[0;32m---> 14\u001b[0;31m \u001b[0mprint\u001b[0m\u001b[0;34m(\u001b[0m\u001b[0mlist\u001b[0m\u001b[0;34m(\u001b[0m\u001b[0mx\u001b[0m\u001b[0;34m)\u001b[0m\u001b[0;34m)\u001b[0m\u001b[0;34m\u001b[0m\u001b[0;34m\u001b[0m\u001b[0m\n\u001b[0m",
            "\u001b[0;31mTypeError\u001b[0m: 'NoneType' object is not iterable"
          ]
        }
      ]
    },
    {
      "cell_type": "code",
      "metadata": {
        "id": "L79tVKZPWP0j",
        "colab": {
          "base_uri": "https://localhost:8080/",
          "height": 246
        },
        "outputId": "6d5406bf-a5fa-432f-9a63-26c2680496ff"
      },
      "source": [
        "num = input('Enter a positive number :')\n",
        "\n",
        "for i in num:\n",
        "    bol=True\n",
        "    for j in range(2, int(num) - 1):\n",
        "        if(i%j==0):\n",
        "            print(num, \"is not prime number\")\n",
        "            bol=False\n",
        "            break\n",
        "    if bol:\n",
        "        print(num, \"is a prime number\")\n"
      ],
      "execution_count": 16,
      "outputs": [
        {
          "output_type": "stream",
          "text": [
            "Enter a positive number :10\n"
          ],
          "name": "stdout"
        },
        {
          "output_type": "error",
          "ename": "TypeError",
          "evalue": "ignored",
          "traceback": [
            "\u001b[0;31m---------------------------------------------------------------------------\u001b[0m",
            "\u001b[0;31mTypeError\u001b[0m                                 Traceback (most recent call last)",
            "\u001b[0;32m<ipython-input-16-064e833a8d0f>\u001b[0m in \u001b[0;36m<module>\u001b[0;34m()\u001b[0m\n\u001b[1;32m      4\u001b[0m     \u001b[0mbol\u001b[0m\u001b[0;34m=\u001b[0m\u001b[0;32mTrue\u001b[0m\u001b[0;34m\u001b[0m\u001b[0;34m\u001b[0m\u001b[0m\n\u001b[1;32m      5\u001b[0m     \u001b[0;32mfor\u001b[0m \u001b[0mj\u001b[0m \u001b[0;32min\u001b[0m \u001b[0mrange\u001b[0m\u001b[0;34m(\u001b[0m\u001b[0;36m2\u001b[0m\u001b[0;34m,\u001b[0m \u001b[0mint\u001b[0m\u001b[0;34m(\u001b[0m\u001b[0mnum\u001b[0m\u001b[0;34m)\u001b[0m \u001b[0;34m-\u001b[0m \u001b[0;36m1\u001b[0m\u001b[0;34m)\u001b[0m\u001b[0;34m:\u001b[0m\u001b[0;34m\u001b[0m\u001b[0;34m\u001b[0m\u001b[0m\n\u001b[0;32m----> 6\u001b[0;31m         \u001b[0;32mif\u001b[0m\u001b[0;34m(\u001b[0m\u001b[0mi\u001b[0m\u001b[0;34m%\u001b[0m\u001b[0mj\u001b[0m\u001b[0;34m==\u001b[0m\u001b[0;36m0\u001b[0m\u001b[0;34m)\u001b[0m\u001b[0;34m:\u001b[0m\u001b[0;34m\u001b[0m\u001b[0;34m\u001b[0m\u001b[0m\n\u001b[0m\u001b[1;32m      7\u001b[0m             \u001b[0mprint\u001b[0m\u001b[0;34m(\u001b[0m\u001b[0mnum\u001b[0m\u001b[0;34m,\u001b[0m \u001b[0;34m\"is not prime number\"\u001b[0m\u001b[0;34m)\u001b[0m\u001b[0;34m\u001b[0m\u001b[0;34m\u001b[0m\u001b[0m\n\u001b[1;32m      8\u001b[0m             \u001b[0mbol\u001b[0m\u001b[0;34m=\u001b[0m\u001b[0;32mFalse\u001b[0m\u001b[0;34m\u001b[0m\u001b[0;34m\u001b[0m\u001b[0m\n",
            "\u001b[0;31mTypeError\u001b[0m: not all arguments converted during string formatting"
          ]
        }
      ]
    },
    {
      "cell_type": "code",
      "metadata": {
        "colab": {
          "base_uri": "https://localhost:8080/"
        },
        "id": "Qv88-fH8oFI2",
        "outputId": "f70de956-088b-4045-aace-b83c0cf518c1"
      },
      "source": [
        "for var1 in range(2,20):\n",
        "    bol=True\n",
        "    for var2 in range(2,var1-1):\n",
        "        if(var1%var2==0):\n",
        "            print(var1, \"is not prime number\")\n",
        "            bol=False\n",
        "            break\n",
        "    if bol:\n",
        "        print(var1, \"is a prime number\")"
      ],
      "execution_count": 17,
      "outputs": [
        {
          "output_type": "stream",
          "text": [
            "2 is a prime number\n",
            "3 is a prime number\n",
            "4 is not prime number\n",
            "5 is a prime number\n",
            "6 is not prime number\n",
            "7 is a prime number\n",
            "8 is not prime number\n",
            "9 is not prime number\n",
            "10 is not prime number\n",
            "11 is a prime number\n",
            "12 is not prime number\n",
            "13 is a prime number\n",
            "14 is not prime number\n",
            "15 is not prime number\n",
            "16 is not prime number\n",
            "17 is a prime number\n",
            "18 is not prime number\n",
            "19 is a prime number\n"
          ],
          "name": "stdout"
        }
      ]
    },
    {
      "cell_type": "code",
      "metadata": {
        "colab": {
          "base_uri": "https://localhost:8080/",
          "height": 195
        },
        "id": "FqraP0q0jxGa",
        "outputId": "a9b7b75b-0be3-4c08-df1d-850fac724e05"
      },
      "source": [
        "def primes_generator():\n",
        "    n = 1\n",
        "    while True:\n",
        "        for x in range(2, n): \n",
        "            if n % x == 0:\n",
        "                #not prime\n",
        "                break\n",
        "        else: \n",
        "            #prime\n",
        "            yield n\n",
        "        n+=1\n",
        "\n",
        "primes = primes_generator()\n",
        "for prime in primes:\n",
        "    print(i)"
      ],
      "execution_count": 7,
      "outputs": [
        {
          "output_type": "error",
          "ename": "NameError",
          "evalue": "ignored",
          "traceback": [
            "\u001b[0;31m---------------------------------------------------------------------------\u001b[0m",
            "\u001b[0;31mNameError\u001b[0m                                 Traceback (most recent call last)",
            "\u001b[0;32m<ipython-input-7-89e14ac10192>\u001b[0m in \u001b[0;36m<module>\u001b[0;34m()\u001b[0m\n\u001b[1;32m     13\u001b[0m \u001b[0mprimes\u001b[0m \u001b[0;34m=\u001b[0m \u001b[0mprimes_generator\u001b[0m\u001b[0;34m(\u001b[0m\u001b[0;34m)\u001b[0m\u001b[0;34m\u001b[0m\u001b[0;34m\u001b[0m\u001b[0m\n\u001b[1;32m     14\u001b[0m \u001b[0;32mfor\u001b[0m \u001b[0mprime\u001b[0m \u001b[0;32min\u001b[0m \u001b[0mprimes\u001b[0m\u001b[0;34m:\u001b[0m\u001b[0;34m\u001b[0m\u001b[0;34m\u001b[0m\u001b[0m\n\u001b[0;32m---> 15\u001b[0;31m     \u001b[0mprint\u001b[0m\u001b[0;34m(\u001b[0m\u001b[0mi\u001b[0m\u001b[0;34m)\u001b[0m\u001b[0;34m\u001b[0m\u001b[0;34m\u001b[0m\u001b[0m\n\u001b[0m",
            "\u001b[0;31mNameError\u001b[0m: name 'i' is not defined"
          ]
        }
      ]
    },
    {
      "cell_type": "code",
      "metadata": {
        "colab": {
          "base_uri": "https://localhost:8080/"
        },
        "id": "t4Ua05QEkmc_",
        "outputId": "b1622d2f-be71-444f-d5ce-2639aacc8e9d"
      },
      "source": [
        "i = 2  \n",
        "while(i < 50):  \n",
        "    j = 2  \n",
        "    while(j <= (i/j)):  \n",
        "        if not(i%j):   \n",
        "            break  \n",
        "        j += 1  \n",
        "    if (j > i/j) :   \n",
        "        print(i, \" is prime\")  \n",
        "    i = i + 1"
      ],
      "execution_count": 9,
      "outputs": [
        {
          "output_type": "stream",
          "text": [
            "2  is prime\n",
            "3  is prime\n",
            "5  is prime\n",
            "7  is prime\n",
            "11  is prime\n",
            "13  is prime\n",
            "17  is prime\n",
            "19  is prime\n",
            "23  is prime\n",
            "29  is prime\n",
            "31  is prime\n",
            "37  is prime\n",
            "41  is prime\n",
            "43  is prime\n",
            "47  is prime\n"
          ],
          "name": "stdout"
        }
      ]
    },
    {
      "cell_type": "code",
      "metadata": {
        "colab": {
          "base_uri": "https://localhost:8080/"
        },
        "id": "51UoN5TkrQw-",
        "outputId": "147f0902-e221-4e08-c3e2-92010e560610"
      },
      "source": [
        "i = 2\n",
        "while i < 100: # i \n",
        "    j = 2\n",
        "    while j <= i/j: # j \n",
        "        if not(i % j): #If you can divisible, proceed to the following code\n",
        "            break # can be divisible, jump out, directly i=i+1, not prime does not print\n",
        "        j = j + 1 # jj continues\n",
        "\n",
        "    if(j > (i/j)): # j greater than the root number i has not found a number that can be divisible by i, it should meet the requirements of prime numbers, print\n",
        "        print(i, \"is prime\")\n",
        "    i = i + 1\n",
        "\n",
        "print (\"Good bye!\")"
      ],
      "execution_count": 95,
      "outputs": [
        {
          "output_type": "stream",
          "text": [
            "2 is prime\n",
            "3 is prime\n",
            "5 is prime\n",
            "7 is prime\n",
            "11 is prime\n",
            "13 is prime\n",
            "17 is prime\n",
            "19 is prime\n",
            "23 is prime\n",
            "29 is prime\n",
            "31 is prime\n",
            "37 is prime\n",
            "41 is prime\n",
            "43 is prime\n",
            "47 is prime\n",
            "53 is prime\n",
            "59 is prime\n",
            "61 is prime\n",
            "67 is prime\n",
            "71 is prime\n",
            "73 is prime\n",
            "79 is prime\n",
            "83 is prime\n",
            "89 is prime\n",
            "97 is prime\n",
            "Good bye!\n"
          ],
          "name": "stdout"
        }
      ]
    },
    {
      "cell_type": "code",
      "metadata": {
        "colab": {
          "base_uri": "https://localhost:8080/"
        },
        "id": "E1RnXcBodbB4",
        "outputId": "3995b1c3-70de-4978-c78e-5c6607235eaf"
      },
      "source": [
        "# numbers = [1,2,3,4,5]\n",
        "\n",
        "for i in range(1, 11):\n",
        "  if not (i%j):\n",
        "    print('no')\n",
        "  else:\n",
        "    print('yes') \n"
      ],
      "execution_count": 102,
      "outputs": [
        {
          "output_type": "stream",
          "text": [
            "yes\n",
            "yes\n",
            "no\n",
            "yes\n",
            "yes\n",
            "no\n",
            "yes\n",
            "yes\n",
            "no\n",
            "yes\n"
          ],
          "name": "stdout"
        }
      ]
    },
    {
      "cell_type": "code",
      "metadata": {
        "colab": {
          "base_uri": "https://localhost:8080/"
        },
        "id": "m72b6FCvzwht",
        "outputId": "85919d4b-c63c-491c-d98e-4d67dfcada3e"
      },
      "source": [
        "for i in range(1, 11):\n",
        "  if (i%j):  # i%j 1 icin % 0 oldugundan sonucu Falsy'dir\n",
        "    print('no')\n",
        "  else:\n",
        "    print('yes')"
      ],
      "execution_count": 103,
      "outputs": [
        {
          "output_type": "stream",
          "text": [
            "no\n",
            "no\n",
            "yes\n",
            "no\n",
            "no\n",
            "yes\n",
            "no\n",
            "no\n",
            "yes\n",
            "no\n"
          ],
          "name": "stdout"
        }
      ]
    },
    {
      "cell_type": "code",
      "metadata": {
        "colab": {
          "base_uri": "https://localhost:8080/"
        },
        "id": "tOj16xhk041l",
        "outputId": "7873d068-229a-4e48-f7c1-d77ecc1a2156"
      },
      "source": [
        "for i in range(1, 11):\n",
        "  if (i%j) == 0:  \n",
        "    print('no')\n",
        "  else:\n",
        "    print('yes')"
      ],
      "execution_count": 104,
      "outputs": [
        {
          "output_type": "stream",
          "text": [
            "yes\n",
            "yes\n",
            "no\n",
            "yes\n",
            "yes\n",
            "no\n",
            "yes\n",
            "yes\n",
            "no\n",
            "yes\n"
          ],
          "name": "stdout"
        }
      ]
    },
    {
      "cell_type": "code",
      "metadata": {
        "colab": {
          "base_uri": "https://localhost:8080/"
        },
        "id": "YNqiP_kW1Uyo",
        "outputId": "8b5175c7-a567-489f-f0b1-bf450f75eb45"
      },
      "source": [
        "numbers = [1,2,3,4,5]\n",
        "\n",
        "for i in range(1, 5):\n",
        "  for j in numbers:\n",
        "    if not (i%j):\n",
        "      print('no')\n",
        "    else:\n",
        "      print('yes') \n"
      ],
      "execution_count": 106,
      "outputs": [
        {
          "output_type": "stream",
          "text": [
            "no\n",
            "yes\n",
            "yes\n",
            "yes\n",
            "yes\n",
            "no\n",
            "no\n",
            "yes\n",
            "yes\n",
            "yes\n",
            "no\n",
            "yes\n",
            "no\n",
            "yes\n",
            "yes\n",
            "no\n",
            "no\n",
            "yes\n",
            "no\n",
            "yes\n"
          ],
          "name": "stdout"
        }
      ]
    },
    {
      "cell_type": "markdown",
      "metadata": {
        "id": "5q9VgAGtrReE"
      },
      "source": [
        "Code meaning\n",
        "\n",
        "i: number from 2 to 100\n",
        "\n",
        "j: the number from 2 to the root number i (saving the amount of calculation, can also be written as 2 to i)\n",
        "\n",
        "The first loop limits the range of i, and the second loop limits the range of j.\n",
        "\n",
        "First judge that i cannot divide j, then j increments by 1, and continues to judge until the root number i is exceeded.\n",
        "\n",
        "Secondly, if it is divisible, it will exit. At this time, the prime requirement is not met, so it is not printed. If the non-division is satisfied, it will be printed.\n",
        "\n",
        "The last i increment"
      ]
    },
    {
      "cell_type": "code",
      "metadata": {
        "colab": {
          "base_uri": "https://localhost:8080/"
        },
        "id": "qjMorD5ggL6V",
        "outputId": "6382a79c-3e1f-44a3-d5e1-4cf3bd89acc4"
      },
      "source": [
        "n = int(input(\"Enter a number to check if it is a prime number.\"))\n",
        "count = 0\n",
        "for i in range(1, n+1) :\n",
        "    if not n % i :\n",
        "        count += 1\n",
        "if (n == 0) or (n == 1) or (count >=3) :\n",
        "    print(n, \"is not a prime number.\")\n",
        "else:\n",
        "    print(n, \"is a prime number\")"
      ],
      "execution_count": 82,
      "outputs": [
        {
          "output_type": "stream",
          "text": [
            "Enter a number to check if it is a prime number.10\n",
            "10 is not a prime number.\n"
          ],
          "name": "stdout"
        }
      ]
    },
    {
      "cell_type": "code",
      "metadata": {
        "colab": {
          "base_uri": "https://localhost:8080/"
        },
        "id": "IaDnVUHkhsYn",
        "outputId": "3aab7528-fa04-4437-96ef-1e48b3af1c24"
      },
      "source": [
        "n = int(input(\"Enter a number :\"))\n",
        "count = 0\n",
        "for i in range(1, n+1) :\n",
        "    if not n % i :\n",
        "        count += 1\n",
        "        print(i)"
      ],
      "execution_count": 92,
      "outputs": [
        {
          "output_type": "stream",
          "text": [
            "Enter a number to check if it is a prime number.10\n",
            "1\n",
            "2\n",
            "5\n",
            "10\n"
          ],
          "name": "stdout"
        }
      ]
    },
    {
      "cell_type": "code",
      "metadata": {
        "colab": {
          "base_uri": "https://localhost:8080/"
        },
        "id": "5VXMTNstiUjX",
        "outputId": "f12a1276-bd83-46b5-adbf-26fa6b9aadba"
      },
      "source": [
        "n = int(input(\"Enter a number :\"))\n",
        "count = 0\n",
        "for i in range(1, n+1) :\n",
        "    if n % i :\n",
        "        count += 1\n",
        "        print(i)"
      ],
      "execution_count": 93,
      "outputs": [
        {
          "output_type": "stream",
          "text": [
            "Enter a number to check if it is a prime number.10\n",
            "3\n",
            "4\n",
            "6\n",
            "7\n",
            "8\n",
            "9\n"
          ],
          "name": "stdout"
        }
      ]
    },
    {
      "cell_type": "code",
      "metadata": {
        "colab": {
          "base_uri": "https://localhost:8080/"
        },
        "id": "0TE8FQGqgP2g",
        "outputId": "99dcd53e-b91f-4314-8a0c-b6b0b3380b29"
      },
      "source": [
        "n = int(input(\"Enter a number to check if it is a prime number.\"))\n",
        "count = 0\n",
        "for i in range(1, n+1) :\n",
        "    if n % i == 0 :\n",
        "        count += 1\n",
        "if (n == 0) or (n == 1) or (count >=3) :\n",
        "    print(n, \"is not a prime number.\")\n",
        "else:\n",
        "    print(n, \"is a prime number\")"
      ],
      "execution_count": 83,
      "outputs": [
        {
          "output_type": "stream",
          "text": [
            "Enter a number to check if it is a prime number.97\n",
            "97 is a prime number\n"
          ],
          "name": "stdout"
        }
      ]
    },
    {
      "cell_type": "code",
      "metadata": {
        "colab": {
          "base_uri": "https://localhost:8080/"
        },
        "id": "ctz_0UAqnRkV",
        "outputId": "9c195e47-859b-47cf-efb3-cc4a907f21d6"
      },
      "source": [
        "#nested for loop in python example\n",
        "num=int(input(\"Enter te number of rows :\"))\n",
        "print(\" \")\n",
        "for i in range(1,num):\n",
        "    for j in range(1):\n",
        "        print(\"*\"*(i)), #string multiplication\n",
        "        print(\"\")"
      ],
      "execution_count": 12,
      "outputs": [
        {
          "output_type": "stream",
          "text": [
            "Enter te number of rows :5\n",
            " \n",
            "*\n",
            "\n",
            "**\n",
            "\n",
            "***\n",
            "\n",
            "****\n",
            "\n"
          ],
          "name": "stdout"
        }
      ]
    }
  ]
}