{
  "nbformat": 4,
  "nbformat_minor": 0,
  "metadata": {
    "colab": {
      "name": "Assignment-008/9 (Letters Count).ipynb",
      "provenance": [],
      "authorship_tag": "ABX9TyOE1dDtiaBSvxXeQ74a2SZQ",
      "include_colab_link": true
    },
    "kernelspec": {
      "name": "python3",
      "display_name": "Python 3"
    },
    "language_info": {
      "name": "python"
    }
  },
  "cells": [
    {
      "cell_type": "markdown",
      "metadata": {
        "id": "view-in-github",
        "colab_type": "text"
      },
      "source": [
        "<a href=\"https://colab.research.google.com/github/AzizOzmen/Clarusway_Assignments/blob/main/Assignment_008_9_(Letters_Count).ipynb\" target=\"_parent\"><img src=\"https://colab.research.google.com/assets/colab-badge.svg\" alt=\"Open In Colab\"/></a>"
      ]
    },
    {
      "cell_type": "markdown",
      "metadata": {
        "id": "9t2p5lbZ7-ZE"
      },
      "source": [
        "**💡Objective:**\n",
        "\n",
        "To improve your control flow statement skill and dictionary knowledge.\n",
        "Write your Python codes on any IDE and push it up to your GitHub repository, then submit your GitHub page address link in addition to your codes (answer) as a plain text. \n",
        "\n",
        "**Task:**\n",
        "\n",
        "Count the number of each letter in a sentence.\n",
        "\n",
        "The department you work for undertook a project construction that makes word / text analysis. You are asked to calculate the number of letters or any chars in the sentences entered under this project.\n",
        "\n",
        "Write a Python program that;\n",
        "\n",
        "takes a sentence from the user,\n",
        "\n",
        "counts the number of each letter of the sentence,\n",
        "\n",
        "collects the letters/chars as a key and the counted numbers as a value in a dictionary."
      ]
    },
    {
      "cell_type": "markdown",
      "metadata": {
        "id": "VWhHwbeo8S2H"
      },
      "source": [
        "**Examples**\n",
        "\n",
        "**Sample inputs**\n",
        "\n",
        "hippo runs to us!\n",
        "\n",
        "**Outputs**\n",
        "\n",
        "{'s': 2, 'r': 1, 't': 1, 'h': 1, 'n': 1, \n",
        "'i': 1, 'u': 2, 'o': 2, 'p': 2, ' ': 3, '!': 1}"
      ]
    },
    {
      "cell_type": "markdown",
      "metadata": {
        "id": "Iq7bJ_uA8gfO"
      },
      "source": [
        "**Note that;** this question is famous on the web, so that do it yourself to get more benefits from it. By the way, Do not use try - except block."
      ]
    },
    {
      "cell_type": "code",
      "metadata": {
        "id": "FtdK83jOKZI9"
      },
      "source": [
        "sentence = input(\"Please enter a sentence: \")\n",
        "\n",
        "result = {}\n",
        "\n",
        "for i in set(sentence):\n",
        "  a = {i: sentence.count(i)}\n",
        "  result.update(a)\n",
        "print (result)"
      ],
      "execution_count": null,
      "outputs": []
    },
    {
      "cell_type": "code",
      "metadata": {
        "id": "ZdBh1w4I76NV",
        "colab": {
          "base_uri": "https://localhost:8080/"
        },
        "outputId": "4bce44c7-5f5c-441b-f724-e9863206788a"
      },
      "source": [
        "sentence = input(\"Please enter a sentence: \")\n",
        "\n",
        "frequency = {}\n",
        "  \n",
        "for i in sentence:\n",
        "    frequency[i] = frequency.get(i, 0) + 1\n",
        "\n",
        "print (frequency)"
      ],
      "execution_count": null,
      "outputs": [
        {
          "output_type": "stream",
          "text": [
            "Please enter a sentence for analysis: aziz ozmen\n",
            "{'a': 1, 'z': 3, 'i': 1, ' ': 1, 'o': 1, 'm': 1, 'e': 1, 'n': 1}\n"
          ],
          "name": "stdout"
        }
      ]
    },
    {
      "cell_type": "code",
      "metadata": {
        "id": "PH_o5dFOX2p3",
        "colab": {
          "base_uri": "https://localhost:8080/"
        },
        "outputId": "81992359-04f0-4f5d-a196-53b0685f4e90"
      },
      "source": [
        "sentence = input(\"Please enter a sentence for analysis: \")\n",
        "\n",
        "frequency = {}\n",
        "\n",
        "for i in sentence:\n",
        "  if i in frequency:\n",
        "    frequency[i] += 1\n",
        "  else:\n",
        "    frequency[i] = 1\n",
        "\n",
        "print(frequency)"
      ],
      "execution_count": 46,
      "outputs": [
        {
          "output_type": "stream",
          "text": [
            "Please enter a sentence for analysis: aziz\n",
            "{'a': 1, 'z': 2, 'i': 1}\n"
          ],
          "name": "stdout"
        }
      ]
    },
    {
      "cell_type": "code",
      "metadata": {
        "colab": {
          "base_uri": "https://localhost:8080/"
        },
        "id": "TJeMa_zVFF4K",
        "outputId": "d6fd4339-ccec-44a5-a668-d019a435bb71"
      },
      "source": [
        "sentence = input(\"Please enter a sentence: \")\n",
        "\n",
        "for i in set(sentence):\n",
        "  a = sentence.count(i)\n",
        "  print (i, a)"
      ],
      "execution_count": 36,
      "outputs": [
        {
          "output_type": "stream",
          "text": [
            "Please enter a sentence: aziz\n",
            "i 1\n",
            "a 1\n",
            "z 2\n"
          ],
          "name": "stdout"
        }
      ]
    },
    {
      "cell_type": "code",
      "metadata": {
        "id": "OEkP_WASHKbe"
      },
      "source": [
        "sentence = input(\"Please enter a sentence: \")\n",
        "\n",
        "for i in set(sentence):\n",
        "  a = sentence.count(i)\n",
        "  b = {i: a}\n",
        "  print (b)"
      ],
      "execution_count": null,
      "outputs": []
    },
    {
      "cell_type": "code",
      "metadata": {
        "colab": {
          "base_uri": "https://localhost:8080/"
        },
        "id": "2sEpB0uRIkQS",
        "outputId": "5efbd050-7ef0-4ca1-84d3-4154e89bd17d"
      },
      "source": [
        "sentence = input(\"Please enter a sentence: \")\n",
        "\n",
        "result = {}\n",
        "\n",
        "for i in set(sentence):\n",
        "  a = {i: sentence.count(i)}\n",
        "  result.update(a)\n",
        "  print (result)"
      ],
      "execution_count": 44,
      "outputs": [
        {
          "output_type": "stream",
          "text": [
            "Please enter a sentence: hippo runs to us!\n",
            "{' ': 3}\n",
            "{' ': 3, 'o': 2}\n",
            "{' ': 3, 'o': 2, 't': 1}\n",
            "{' ': 3, 'o': 2, 't': 1, 'r': 1}\n",
            "{' ': 3, 'o': 2, 't': 1, 'r': 1, 'u': 2}\n",
            "{' ': 3, 'o': 2, 't': 1, 'r': 1, 'u': 2, '!': 1}\n",
            "{' ': 3, 'o': 2, 't': 1, 'r': 1, 'u': 2, '!': 1, 'h': 1}\n",
            "{' ': 3, 'o': 2, 't': 1, 'r': 1, 'u': 2, '!': 1, 'h': 1, 'n': 1}\n",
            "{' ': 3, 'o': 2, 't': 1, 'r': 1, 'u': 2, '!': 1, 'h': 1, 'n': 1, 'p': 2}\n",
            "{' ': 3, 'o': 2, 't': 1, 'r': 1, 'u': 2, '!': 1, 'h': 1, 'n': 1, 'p': 2, 'i': 1}\n",
            "{' ': 3, 'o': 2, 't': 1, 'r': 1, 'u': 2, '!': 1, 'h': 1, 'n': 1, 'p': 2, 'i': 1, 's': 2}\n"
          ],
          "name": "stdout"
        }
      ]
    },
    {
      "cell_type": "code",
      "metadata": {
        "colab": {
          "base_uri": "https://localhost:8080/"
        },
        "id": "a9-lGBA3JUKb",
        "outputId": "22b3d8b2-f039-4ba0-ab4d-e0d3308b41e0"
      },
      "source": [
        "sentence = input(\"Please enter a sentence: \")\n",
        "\n",
        "result = {}\n",
        "\n",
        "for i in set(sentence):\n",
        "  a = {i: sentence.count(i)}\n",
        "  result.update(a)\n",
        "print (result)"
      ],
      "execution_count": 45,
      "outputs": [
        {
          "output_type": "stream",
          "text": [
            "Please enter a sentence: hippo runs to us!\n",
            "{' ': 3, 'o': 2, 't': 1, 'r': 1, 'u': 2, '!': 1, 'h': 1, 'n': 1, 'p': 2, 'i': 1, 's': 2}\n"
          ],
          "name": "stdout"
        }
      ]
    },
    {
      "cell_type": "code",
      "metadata": {
        "id": "mOt-lR22IKsd"
      },
      "source": [
        "hippo runs to us!\n",
        "\n",
        "Outputs\n",
        "\n",
        "{'s': 2, 'r': 1, 't': 1, 'h': 1, 'n': 1, 'i': 1, 'u': 2, 'o': 2, 'p': 2, ' ': 3, '!': 1}\n",
        "{' ': 3, 'o': 2, 't': 1, 'r': 1, 'u': 2, '!': 1, 'h': 1, 'n': 1, 'p': 2, 'i': 1, 's': 2}"
      ],
      "execution_count": null,
      "outputs": []
    },
    {
      "cell_type": "code",
      "metadata": {
        "colab": {
          "base_uri": "https://localhost:8080/"
        },
        "id": "gMMf7yvdY-Ve",
        "outputId": "e75c68fa-7dcb-47ae-e909-24687ca3d69b"
      },
      "source": [
        "sentence = input(\"Please enter a sentence for analysis: \")\n",
        "\n",
        "frequency = {i : sentence.count(i) for i in set(sentence)}\n",
        "  \n",
        "print (frequency)"
      ],
      "execution_count": null,
      "outputs": [
        {
          "output_type": "stream",
          "text": [
            "Please enter a sentence for analysis: aziz ozmen\n",
            "{'m': 1, 'n': 1, ' ': 1, 'i': 1, 'o': 1, 'e': 1, 'a': 1, 'z': 3}\n"
          ],
          "name": "stdout"
        }
      ]
    },
    {
      "cell_type": "code",
      "metadata": {
        "colab": {
          "base_uri": "https://localhost:8080/"
        },
        "id": "qIvAnss6ZW-x",
        "outputId": "4354b5b1-cae7-47fa-8ea0-2dbc4ca6136f"
      },
      "source": [
        "sentence = input(\"Please enter a sentence for analysis: \")\n",
        "\n",
        "frequency = {i: sentence.count(i) for i in sentence}\n",
        "  \n",
        "print (frequency)"
      ],
      "execution_count": null,
      "outputs": [
        {
          "output_type": "stream",
          "text": [
            "Please enter a sentence for analysis: hippo runs to us!\n",
            "{'h': 1, 'i': 1, 'p': 2, 'o': 2, ' ': 3, 'r': 1, 'u': 2, 'n': 1, 's': 2, 't': 1, '!': 1}\n"
          ],
          "name": "stdout"
        }
      ]
    },
    {
      "cell_type": "code",
      "metadata": {
        "colab": {
          "base_uri": "https://localhost:8080/"
        },
        "id": "n6i-KlxU7Oj3",
        "outputId": "2b8c2ab9-1474-4a5f-9a3f-a24a6ca51130"
      },
      "source": [
        "sentence = input(\"Please enter a sentence for analysis: \")\n",
        "\n",
        "a = (lambda i: sentence.count(i) for i in sentence)\n",
        "  \n",
        "print (list(a))"
      ],
      "execution_count": 18,
      "outputs": [
        {
          "output_type": "stream",
          "text": [
            "Please enter a sentence for analysis: aziz\n",
            "[<function <genexpr>.<lambda> at 0x7f0b5fd01290>, <function <genexpr>.<lambda> at 0x7f0b5fcfc4d0>, <function <genexpr>.<lambda> at 0x7f0b5fcfc7a0>, <function <genexpr>.<lambda> at 0x7f0b5fcfcf80>]\n"
          ],
          "name": "stdout"
        }
      ]
    },
    {
      "cell_type": "code",
      "metadata": {
        "id": "S28UjJ2X8QHL"
      },
      "source": [
        "sentence = list((lambda i: sentence.count(i) for i in sentence))\n",
        "\n",
        "print(sentence('aziz'))\n"
      ],
      "execution_count": null,
      "outputs": []
    },
    {
      "cell_type": "code",
      "metadata": {
        "colab": {
          "base_uri": "https://localhost:8080/"
        },
        "id": "79-jnAyEAyNO",
        "outputId": "aadade14-d48b-4c96-fac8-f94ecc9dd49b"
      },
      "source": [
        "generator_expression = (lambda x: x + x for x in range(5))\n",
        "\n",
        "generator_list = list(generator_expression)\n",
        "\n",
        "print(generator_list)"
      ],
      "execution_count": 21,
      "outputs": [
        {
          "output_type": "stream",
          "text": [
            "[<function <genexpr>.<lambda> at 0x7f0b5fce5dd0>, <function <genexpr>.<lambda> at 0x7f0b5fce5c20>, <function <genexpr>.<lambda> at 0x7f0b5fd15d40>, <function <genexpr>.<lambda> at 0x7f0b5fd15e60>, <function <genexpr>.<lambda> at 0x7f0b5fd15dd0>]\n"
          ],
          "name": "stdout"
        }
      ]
    },
    {
      "cell_type": "code",
      "metadata": {
        "colab": {
          "base_uri": "https://localhost:8080/"
        },
        "id": "KQXdu3GkERGD",
        "outputId": "b04ce4d5-acca-4c7f-8850-f22ae188f37e"
      },
      "source": [
        "generator_expression = (x + x for x in range(5))\n",
        "\n",
        "generator_list = list(generator_expression)\n",
        "\n",
        "print(generator_list)"
      ],
      "execution_count": 22,
      "outputs": [
        {
          "output_type": "stream",
          "text": [
            "[0, 2, 4, 6, 8]\n"
          ],
          "name": "stdout"
        }
      ]
    },
    {
      "cell_type": "code",
      "metadata": {
        "colab": {
          "base_uri": "https://localhost:8080/",
          "height": 35
        },
        "id": "SFATWa-69GZl",
        "outputId": "664764c1-28a3-4b18-f272-905087d31530"
      },
      "source": [
        "(lambda x: (x % 2 and 'odd' or 'even'))(3)"
      ],
      "execution_count": 11,
      "outputs": [
        {
          "output_type": "execute_result",
          "data": {
            "application/vnd.google.colaboratory.intrinsic+json": {
              "type": "string"
            },
            "text/plain": [
              "'odd'"
            ]
          },
          "metadata": {
            "tags": []
          },
          "execution_count": 11
        }
      ]
    },
    {
      "cell_type": "code",
      "metadata": {
        "id": "YhQfZOYiZlr-"
      },
      "source": [
        "hippo runs to us!\n",
        "\n",
        "Outputs\n",
        "\n",
        "{'s': 2, 'r': 1, 't': 1, 'h': 1, 'n': 1, 'i': 1, 'u': 2, 'o': 2, 'p': 2, ' ': 3, '!': 1}"
      ],
      "execution_count": null,
      "outputs": []
    }
  ]
}